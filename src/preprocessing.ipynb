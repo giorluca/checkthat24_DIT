{
 "cells": [
  {
   "cell_type": "code",
   "execution_count": null,
   "metadata": {},
   "outputs": [],
   "source": [
    "import os\n",
    "import pandas as pd\n",
    "\n",
    "main_folder = \"data\"\n",
    "\n",
    "article_ids = []\n",
    "langs = []\n",
    "texts = []\n",
    "\n",
    "for lang_folder in os.listdir(main_folder):\n",
    "    lang_path = os.path.join(main_folder, lang_folder)\n",
    "    if os.path.isdir(lang_path):\n",
    "        lang_code = lang_folder\n",
    "        # Iterate over files in train-articles-subtask-3 folder\n",
    "        train_folder = os.path.join(lang_path, \"train-articles-subtask-3\")\n",
    "        for file in os.listdir(train_folder):\n",
    "            if file.endswith(\".txt\"):\n",
    "                file_path = os.path.join(train_folder, file)\n",
    "                # Extract ID from file name\n",
    "                article_id = file.split(\".\")[0].split(\"article\")[-1]\n",
    "                # Read text from file\n",
    "                try:\n",
    "                    with open(file_path, \"r\") as f:\n",
    "                        text = f.read()\n",
    "                    article_ids.append(article_id)\n",
    "                    langs.append(lang_code)\n",
    "                    texts.append(text)\n",
    "                except UnicodeDecodeError:\n",
    "                    pass\n",
    "\n",
    "# Create pandas dataframe\n",
    "df = pd.DataFrame({\n",
    "    \"article_id\": article_ids,\n",
    "    \"lang\": langs,\n",
    "    \"text\": texts\n",
    "})\n",
    "\n",
    "# Display dataframe\n",
    "print(df)\n",
    "\n",
    "df.to_csv('train.tsv', sep='\\t')"
   ]
  },
  {
   "cell_type": "code",
   "execution_count": null,
   "metadata": {},
   "outputs": [],
   "source": [
    "import json\n",
    "\n",
    "# Load articles from JSON file\n",
    "articles = json.load(open('train.json', 'r', encoding='utf-8'))\n",
    "\n",
    "# Load gold standard annotations\n",
    "with open('train-labels-subtask-3-spans.txt', 'r', encoding='utf-8') as f:\n",
    "    gold_standard = [line.strip().split('\\t') for line in f]\n",
    "\n",
    "# Create a dictionary to store annotations by article ID\n",
    "annotations_by_article = {article['article_id']:[] for article in articles}\n",
    "\n",
    "# Populate annotations dictionary with gold standard annotations\n",
    "for annotation in gold_standard:\n",
    "    article_id, tag, start, end = annotation\n",
    "    annotations_by_article[article_id].append({\n",
    "        'start': int(start),\n",
    "        'end': int(end),\n",
    "        'tag': tag  # The alignment system expects 'tag'\n",
    "    })\n",
    "\n",
    "# Add annotations to articles in the JSON file\n",
    "for article in articles:\n",
    "    article_id = article['article_id']\n",
    "    if article_id in annotations_by_article:\n",
    "        article['annotations'] = annotations_by_article[article_id]\n",
    "    else:\n",
    "        article['annotations'] = []\n",
    "\n",
    "# Save modified articles back to JSON file\n",
    "with open('annotated_train.json', 'w', encoding='utf-8') as f:\n",
    "    json.dump(articles, f, ensure_ascii=False, indent=4)"
   ]
  },
  {
   "cell_type": "code",
   "execution_count": null,
   "metadata": {},
   "outputs": [],
   "source": [
    "import pandas as pd\n",
    "\n",
    "df = pd.read_json('annotated_train.json')\n",
    "df"
   ]
  }
 ],
 "metadata": {
  "kernelspec": {
   "display_name": "base",
   "language": "python",
   "name": "python3"
  },
  "language_info": {
   "codemirror_mode": {
    "name": "ipython",
    "version": 3
   },
   "file_extension": ".py",
   "mimetype": "text/x-python",
   "name": "python",
   "nbconvert_exporter": "python",
   "pygments_lexer": "ipython3",
   "version": "3.10.9"
  }
 },
 "nbformat": 4,
 "nbformat_minor": 2
}
