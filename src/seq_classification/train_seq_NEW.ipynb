{
 "cells": [
  {
   "cell_type": "code",
   "execution_count": 1,
   "metadata": {},
   "outputs": [
    {
     "name": "stderr",
     "output_type": "stream",
     "text": [
      "/opt/miniconda3/envs/checkthat/lib/python3.8/site-packages/tqdm/auto.py:21: TqdmWarning: IProgress not found. Please update jupyter and ipywidgets. See https://ipywidgets.readthedocs.io/en/stable/user_install.html\n",
      "  from .autonotebook import tqdm as notebook_tqdm\n"
     ]
    }
   ],
   "source": [
    "import json\n",
    "import pandas as pd\n",
    "import os\n",
    "from datetime import datetime\n",
    "from datasets import Dataset\n",
    "from transformers import AutoTokenizer, AutoModelForSequenceClassification, DataCollatorWithPadding, TrainingArguments, Trainer, EarlyStoppingCallback\n",
    "from train_seq import tokenize_sequence_classification\n",
    "import numpy as np\n",
    "from sklearn.metrics import classification_report"
   ]
  },
  {
   "cell_type": "code",
   "execution_count": 2,
   "metadata": {},
   "outputs": [],
   "source": [
    "train_data_path = '/home/lgiordano/LUCA/checkthat_GITHUB/data/formatted/train_sentences.json'\n",
    "with open(train_data_path, 'r', encoding='utf8') as f:\n",
    "    data = json.load(f)\n",
    "df = pd.DataFrame(data)"
   ]
  },
  {
   "cell_type": "code",
   "execution_count": 3,
   "metadata": {},
   "outputs": [],
   "source": [
    "### This code balances positive and negative samples for each language by down-sampling the larger group ###\n",
    "date_time = datetime.now().strftime(\"%Y-%m-%d-%H-%M-%S\")\n",
    "\n",
    "langs = set(sample['data']['lang'] for sample in data)\n",
    "\n",
    "sampled_dfs = []\n",
    "for lang in langs:\n",
    "    df_lang = df[df['data'].apply(lambda x: x['lang'] == lang)]\n",
    "    df_pos_lang = df_lang[df_lang['data'].apply(lambda x: x['label'] == 1)]\n",
    "    df_neg_lang = df_lang[df_lang['data'].apply(lambda x: x['label'] == 0)]\n",
    "    if len(df_neg_lang) > len(df_pos_lang):\n",
    "        df_neg_lang = df_neg_lang.sample(len(df_pos_lang))\n",
    "    df_lang_sampled = pd.concat([df_pos_lang, df_neg_lang])\n",
    "    sampled_dfs.append(df_lang_sampled)\n",
    "df_sampled = pd.concat(sampled_dfs, ignore_index=True)\n",
    "df_sampled = df_sampled.sample(frac=1, random_state=42).reset_index(drop=True)\n",
    "\n",
    "dataset = Dataset.from_pandas(df_sampled)"
   ]
  },
  {
   "cell_type": "code",
   "execution_count": 4,
   "metadata": {},
   "outputs": [
    {
     "name": "stderr",
     "output_type": "stream",
     "text": [
      "/opt/miniconda3/envs/checkthat/lib/python3.8/site-packages/huggingface_hub/file_download.py:1132: FutureWarning: `resume_download` is deprecated and will be removed in version 1.0.0. Downloads always resume when possible. If you want to force a new download, use `force_download=True`.\n",
      "  warnings.warn(\n",
      "/opt/miniconda3/envs/checkthat/lib/python3.8/site-packages/transformers/convert_slow_tokenizer.py:560: UserWarning: The sentencepiece tokenizer that you are converting to a fast tokenizer uses the byte fallback option which is not implemented in the fast tokenizers. In practice this means that the fast version of the tokenizer can produce unknown tokens whereas the sentencepiece version would have converted these unknown tokens into a sequence of byte tokens matching the original piece of text.\n",
      "  warnings.warn(\n",
      "Map:   0%|          | 0/33345 [00:00<?, ? examples/s]Asking to truncate to max_length but no maximum length is provided and the model has no predefined maximum length. Default to no truncation.\n",
      "Map: 100%|██████████| 33345/33345 [00:10<00:00, 3052.07 examples/s]\n",
      "Map: 100%|██████████| 8337/8337 [00:02<00:00, 2969.26 examples/s]\n"
     ]
    }
   ],
   "source": [
    "### This code splits the balanced dataset in train/test splits and tokenizes both with dynamic padding\n",
    "\n",
    "#model_name = 'bert-base-multilingual-cased'\n",
    "#model_name = 'xlm-roberta-base'\n",
    "model_name = 'microsoft/mdeberta-v3-base'\n",
    "tokenizer = AutoTokenizer.from_pretrained(model_name)\n",
    "\n",
    "split_ratio = 0.2\n",
    "split_seed = 42\n",
    "batch_size = 16\n",
    "\n",
    "datadict = dataset.train_test_split(split_ratio, seed=split_seed)\n",
    "datadict = datadict.map(lambda x: tokenize_sequence_classification(x, tokenizer),\n",
    "                            batch_size=batch_size,\n",
    "                            batched=True\n",
    "                            )\n",
    "\n",
    "columns = [\n",
    "            'input_ids',\n",
    "            'token_type_ids', #non per xlm-roberta\n",
    "            'attention_mask',\n",
    "            'labels'\n",
    "            ]\n",
    "datadict.set_format('torch', columns = columns)\n",
    "\n",
    "train_data = datadict['train']\n",
    "val_data = datadict['test']\n",
    "\n",
    "collate_fn = DataCollatorWithPadding(tokenizer=tokenizer, padding='longest')"
   ]
  },
  {
   "cell_type": "code",
   "execution_count": 5,
   "metadata": {},
   "outputs": [
    {
     "name": "stderr",
     "output_type": "stream",
     "text": [
      "Some weights of DebertaV2ForSequenceClassification were not initialized from the model checkpoint at microsoft/mdeberta-v3-base and are newly initialized: ['classifier.bias', 'classifier.weight', 'pooler.dense.bias', 'pooler.dense.weight']\n",
      "You should probably TRAIN this model on a down-stream task to be able to use it for predictions and inference.\n",
      "huggingface/tokenizers: The current process just got forked, after parallelism has already been used. Disabling parallelism to avoid deadlocks...\n",
      "To disable this warning, you can either:\n",
      "\t- Avoid using `tokenizers` before the fork if possible\n",
      "\t- Explicitly set the environment variable TOKENIZERS_PARALLELISM=(true | false)\n"
     ]
    }
   ],
   "source": [
    "model = AutoModelForSequenceClassification.from_pretrained(model_name, num_labels=2)\n",
    "\n",
    "training_args = TrainingArguments(output_dir='/home/lgiordano/LUCA/checkthat_GITHUB/models/M1/RUN_OTTOBRE/3rd_run',\n",
    "                                  save_total_limit=2,\n",
    "                                  save_strategy='epoch',\n",
    "                                  load_best_model_at_end=True,\n",
    "                                  save_only_model=True,\n",
    "                                  metric_for_best_model='eval_macro-f1',\n",
    "                                  logging_strategy='epoch',\n",
    "                                  evaluation_strategy='epoch',\n",
    "                                  learning_rate=2e-5, #5e-5,\n",
    "                                  optim='adamw_torch',\n",
    "                                  num_train_epochs=10)\n",
    "\n",
    "early_stopping = EarlyStoppingCallback(early_stopping_patience=2)\n",
    "\n",
    "def compute_metrics(eval_preds):\n",
    "    logits, labels = eval_preds\n",
    "    preds = np.argmax(logits, axis=-1)\n",
    "    results = classification_report(labels, preds, output_dict=True)\n",
    "    results['macro-f1'] = results['macro avg']['f1-score']\n",
    "\n",
    "    models_dir = '/home/lgiordano/LUCA/checkthat_GITHUB/models/M1/RUN_OTTOBRE/3rd_run'\n",
    "    #model_name_simple = model_name.split('/')[-1]\n",
    "    model_save_name = f'{date_time}'\n",
    "    model_save_dir = os.path.join(models_dir, model_save_name)\n",
    "    if not os.path.exists(model_save_dir):\n",
    "        os.makedirs(model_save_dir)\n",
    "    with open(os.path.join(model_save_dir, 'results.json'), 'w', encoding='utf8') as f:\n",
    "        json.dump(results, f, ensure_ascii = False)\n",
    "\n",
    "    return results"
   ]
  },
  {
   "cell_type": "code",
   "execution_count": 6,
   "metadata": {},
   "outputs": [],
   "source": [
    "trainer = Trainer(\n",
    "    model,\n",
    "    training_args,\n",
    "    train_dataset=train_data,\n",
    "    eval_dataset=val_data,\n",
    "    data_collator=collate_fn,\n",
    "    tokenizer=tokenizer,\n",
    "    compute_metrics=compute_metrics,\n",
    "    callbacks=[early_stopping]\n",
    ")"
   ]
  },
  {
   "cell_type": "code",
   "execution_count": 7,
   "metadata": {},
   "outputs": [
    {
     "data": {
      "text/html": [
       "\n",
       "    <div>\n",
       "      \n",
       "      <progress value='16676' max='41690' style='width:300px; height:20px; vertical-align: middle;'></progress>\n",
       "      [16676/41690 51:55 < 1:17:53, 5.35 it/s, Epoch 4/10]\n",
       "    </div>\n",
       "    <table border=\"1\" class=\"dataframe\">\n",
       "  <thead>\n",
       " <tr style=\"text-align: left;\">\n",
       "      <th>Epoch</th>\n",
       "      <th>Training Loss</th>\n",
       "      <th>Validation Loss</th>\n",
       "      <th>0</th>\n",
       "      <th>1</th>\n",
       "      <th>Accuracy</th>\n",
       "      <th>Macro avg</th>\n",
       "      <th>Weighted avg</th>\n",
       "      <th>Macro-f1</th>\n",
       "    </tr>\n",
       "  </thead>\n",
       "  <tbody>\n",
       "    <tr>\n",
       "      <td>1</td>\n",
       "      <td>0.526500</td>\n",
       "      <td>0.492101</td>\n",
       "      <td>{'precision': 0.8329952670723462, 'recall': 0.6089965397923875, 'f1-score': 0.7035979440319817, 'support': 4046.0}</td>\n",
       "      <td>{'precision': 0.7058932887153746, 'recall': 0.8848753204381263, 'f1-score': 0.7853154084798345, 'support': 4291.0}</td>\n",
       "      <td>0.750990</td>\n",
       "      <td>{'precision': 0.7694442778938604, 'recall': 0.7469359301152569, 'f1-score': 0.7444566762559082, 'support': 8337.0}</td>\n",
       "      <td>{'precision': 0.7675767005460459, 'recall': 0.7509895645915797, 'f1-score': 0.7456573946671906, 'support': 8337.0}</td>\n",
       "      <td>0.744457</td>\n",
       "    </tr>\n",
       "    <tr>\n",
       "      <td>2</td>\n",
       "      <td>0.414700</td>\n",
       "      <td>0.545269</td>\n",
       "      <td>{'precision': 0.7997214484679666, 'recall': 0.7095897182402373, 'f1-score': 0.751964379256155, 'support': 4046.0}</td>\n",
       "      <td>{'precision': 0.7524752475247525, 'recall': 0.8324399906781635, 'f1-score': 0.7904403629121486, 'support': 4291.0}</td>\n",
       "      <td>0.772820</td>\n",
       "      <td>{'precision': 0.7760983479963595, 'recall': 0.7710148544592004, 'f1-score': 0.7712023710841518, 'support': 8337.0}</td>\n",
       "      <td>{'precision': 0.7754041342965223, 'recall': 0.7728199592179441, 'f1-score': 0.7717677192906841, 'support': 8337.0}</td>\n",
       "      <td>0.771202</td>\n",
       "    </tr>\n",
       "    <tr>\n",
       "      <td>3</td>\n",
       "      <td>0.347700</td>\n",
       "      <td>0.768344</td>\n",
       "      <td>{'precision': 0.7851772287862513, 'recall': 0.7226890756302521, 'f1-score': 0.7526383526383525, 'support': 4046.0}</td>\n",
       "      <td>{'precision': 0.7567743334055929, 'recall': 0.813563271964577, 'f1-score': 0.7841419586702606, 'support': 4291.0}</td>\n",
       "      <td>0.769461</td>\n",
       "      <td>{'precision': 0.7709757810959221, 'recall': 0.7681261737974145, 'f1-score': 0.7683901556543066, 'support': 8337.0}</td>\n",
       "      <td>{'precision': 0.7705584421629569, 'recall': 0.7694614369677342, 'f1-score': 0.7688530549872692, 'support': 8337.0}</td>\n",
       "      <td>0.768390</td>\n",
       "    </tr>\n",
       "    <tr>\n",
       "      <td>4</td>\n",
       "      <td>0.276600</td>\n",
       "      <td>0.943653</td>\n",
       "      <td>{'precision': 0.8024193548387096, 'recall': 0.6885813148788927, 'f1-score': 0.7411545623836127, 'support': 4046.0}</td>\n",
       "      <td>{'precision': 0.7410071942446043, 'recall': 0.8401305057096248, 'f1-score': 0.7874617737003058, 'support': 4291.0}</td>\n",
       "      <td>0.766583</td>\n",
       "      <td>{'precision': 0.771713274541657, 'recall': 0.7643559102942588, 'f1-score': 0.7643081680419592, 'support': 8337.0}</td>\n",
       "      <td>{'precision': 0.7708109128200811, 'recall': 0.7665827036104114, 'f1-score': 0.7649885846650004, 'support': 8337.0}</td>\n",
       "      <td>0.764308</td>\n",
       "    </tr>\n",
       "  </tbody>\n",
       "</table><p>"
      ],
      "text/plain": [
       "<IPython.core.display.HTML object>"
      ]
     },
     "metadata": {},
     "output_type": "display_data"
    },
    {
     "data": {
      "text/plain": [
       "TrainOutput(global_step=16676, training_loss=0.3913612868980871, metrics={'train_runtime': 3115.9491, 'train_samples_per_second': 107.014, 'train_steps_per_second': 13.38, 'total_flos': 1.0137960744541704e+16, 'train_loss': 0.3913612868980871, 'epoch': 4.0})"
      ]
     },
     "execution_count": 7,
     "metadata": {},
     "output_type": "execute_result"
    }
   ],
   "source": [
    "trainer.train()"
   ]
  },
  {
   "cell_type": "code",
   "execution_count": 8,
   "metadata": {},
   "outputs": [
    {
     "data": {
      "text/html": [
       "\n",
       "    <div>\n",
       "      \n",
       "      <progress value='1043' max='1043' style='width:300px; height:20px; vertical-align: middle;'></progress>\n",
       "      [1043/1043 00:34]\n",
       "    </div>\n",
       "    "
      ],
      "text/plain": [
       "<IPython.core.display.HTML object>"
      ]
     },
     "metadata": {},
     "output_type": "display_data"
    },
    {
     "data": {
      "text/plain": [
       "{'eval_loss': 0.5452693700790405,\n",
       " 'eval_0': {'precision': 0.7997214484679666,\n",
       "  'recall': 0.7095897182402373,\n",
       "  'f1-score': 0.751964379256155,\n",
       "  'support': 4046.0},\n",
       " 'eval_1': {'precision': 0.7524752475247525,\n",
       "  'recall': 0.8324399906781635,\n",
       "  'f1-score': 0.7904403629121486,\n",
       "  'support': 4291.0},\n",
       " 'eval_accuracy': 0.7728199592179441,\n",
       " 'eval_macro avg': {'precision': 0.7760983479963595,\n",
       "  'recall': 0.7710148544592004,\n",
       "  'f1-score': 0.7712023710841518,\n",
       "  'support': 8337.0},\n",
       " 'eval_weighted avg': {'precision': 0.7754041342965223,\n",
       "  'recall': 0.7728199592179441,\n",
       "  'f1-score': 0.7717677192906841,\n",
       "  'support': 8337.0},\n",
       " 'eval_macro-f1': 0.7712023710841518,\n",
       " 'eval_runtime': 34.1259,\n",
       " 'eval_samples_per_second': 244.301,\n",
       " 'eval_steps_per_second': 30.563,\n",
       " 'epoch': 4.0}"
      ]
     },
     "execution_count": 8,
     "metadata": {},
     "output_type": "execute_result"
    }
   ],
   "source": [
    "trainer.evaluate()"
   ]
  }
 ],
 "metadata": {
  "kernelspec": {
   "display_name": "checkthat",
   "language": "python",
   "name": "python3"
  },
  "language_info": {
   "codemirror_mode": {
    "name": "ipython",
    "version": 3
   },
   "file_extension": ".py",
   "mimetype": "text/x-python",
   "name": "python",
   "nbconvert_exporter": "python",
   "pygments_lexer": "ipython3",
   "version": "3.8.18"
  }
 },
 "nbformat": 4,
 "nbformat_minor": 2
}
