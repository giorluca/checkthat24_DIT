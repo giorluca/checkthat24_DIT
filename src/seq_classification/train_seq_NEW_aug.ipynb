{
 "cells": [
  {
   "cell_type": "code",
   "execution_count": 1,
   "metadata": {},
   "outputs": [
    {
     "name": "stderr",
     "output_type": "stream",
     "text": [
      "/opt/miniconda3/envs/checkthat/lib/python3.8/site-packages/tqdm/auto.py:21: TqdmWarning: IProgress not found. Please update jupyter and ipywidgets. See https://ipywidgets.readthedocs.io/en/stable/user_install.html\n",
      "  from .autonotebook import tqdm as notebook_tqdm\n"
     ]
    }
   ],
   "source": [
    "import json\n",
    "import pandas as pd\n",
    "import os\n",
    "from datetime import datetime\n",
    "from datasets import Dataset\n",
    "from transformers import AutoTokenizer, AutoModelForSequenceClassification, DataCollatorWithPadding, TrainingArguments, Trainer, EarlyStoppingCallback\n",
    "from train_seq import tokenize_sequence_classification\n",
    "import numpy as np\n",
    "from sklearn.metrics import classification_report"
   ]
  },
  {
   "cell_type": "code",
   "execution_count": 2,
   "metadata": {},
   "outputs": [],
   "source": [
    "train_data_path = '/home/lgiordano/LUCA/checkthat_GITHUB/data/formatted/train_sentences.json'\n",
    "with open(train_data_path, 'r', encoding='utf8') as f:\n",
    "    data = json.load(f)\n",
    "df = pd.DataFrame(data)"
   ]
  },
  {
   "cell_type": "code",
   "execution_count": 3,
   "metadata": {},
   "outputs": [],
   "source": [
    "data_path_dict = {\n",
    "'sl': '/home/lgiordano/LUCA/checkthat_GITHUB/data/train_sent_mt/sl/train_gold_sentences_translated_nllb-200-3.3B_eng_Latn-slv_Latn_tok_regex_en-sl/train_gold_sentences_translated_nllb-200-3.3B_eng_Latn-slv_Latn_tok_regex_en-sl_mdeberta-v3-base_mdeberta_xlwa_en-sl_ME3_2024-05-04-12-12-14_ls.json',\n",
    "'ru': '/home/lgiordano/LUCA/checkthat_GITHUB/data/train_sent_mt/ru/train_gold_sentences_translated_nllb-200-3.3B_eng_Latn-rus_Cyrl_tok_regex_en-ru/train_gold_sentences_translated_nllb-200-3.3B_eng_Latn-rus_Cyrl_tok_regex_en-ru_mdeberta-v3-base_mdeberta_xlwa_en-ru_ME3_2024-05-04-12-09-20_ls.json',\n",
    "'pt': '/home/lgiordano/LUCA/checkthat_GITHUB/data/train_sent_mt/pt/train_gold_sentences_translated_nllb-200-3.3B_eng_Latn-por_Latn_tok_regex_en-pt/train_gold_sentences_translated_nllb-200-3.3B_eng_Latn-por_Latn_tok_regex_en-pt_mdeberta-v3-base_mdeberta_xlwa_en-pt_ME3_2024-05-04-12-07-45_ls.json',\n",
    "'it': '/home/lgiordano/LUCA/checkthat_GITHUB/data/train_sent_mt/it/train_gold_sentences_translated_nllb-200-3.3B_eng_Latn-ita_Latn_tok_regex_en-it/train_gold_sentences_translated_nllb-200-3.3B_eng_Latn-ita_Latn_tok_regex_en-it_mdeberta-v3-base_mdeberta_xlwa_en-it_ME3_2024-05-04-12-05-00_ls.json',\n",
    "'es': '/home/lgiordano/LUCA/checkthat_GITHUB/data/train_sent_mt/es/train_gold_sentences_translated_nllb-200-3.3B_eng_Latn-spa_Latn_tok_regex_en-es/train_gold_sentences_translated_nllb-200-3.3B_eng_Latn-spa_Latn_tok_regex_en-es_mdeberta-v3-base_mdeberta_xlwa_en-es_ME3_2024-05-04-12-01-43_ls.json',\n",
    "'bg': '/home/lgiordano/LUCA/checkthat_GITHUB/data/train_sent_mt/bg/train_gold_sentences_translated_nllb-200-3.3B_eng_Latn-bul_Cyrl_tok_regex_en-bg/train_gold_sentences_translated_nllb-200-3.3B_eng_Latn-bul_Cyrl_tok_regex_en-bg_mdeberta-v3-base_mdeberta_xlwa_en-bg_ME3_2024-05-04-11-58-52_ls.json',\n",
    "}\n",
    "\n",
    "dataset_aug = []\n",
    "for key in data_path_dict:\n",
    "    with open(data_path_dict[key], 'r', encoding='utf8') as f:\n",
    "        dataset_aug_buffer = json.load(f)\n",
    "        for sample in dataset_aug_buffer:\n",
    "            del sample['data']['text_en']\n",
    "            sample['data']['text'] = sample['data'][f'text_{key}']\n",
    "            del sample['data'][f'text_{key}']\n",
    "            sample['data']['lang'] = key\n",
    "            sample['data']['label'] = sample['data'].pop('labels')\n",
    "        dataset_aug += dataset_aug_buffer\n",
    "\n",
    "df_aug = pd.DataFrame(dataset_aug)"
   ]
  },
  {
   "cell_type": "code",
   "execution_count": 4,
   "metadata": {},
   "outputs": [],
   "source": [
    "df = pd.concat([df, df_aug])"
   ]
  },
  {
   "cell_type": "code",
   "execution_count": 5,
   "metadata": {},
   "outputs": [],
   "source": [
    "### This code balances positive and negative samples for each language by down-sampling the larger group ###\n",
    "date_time = datetime.now().strftime(\"%Y-%m-%d-%H-%M-%S\")\n",
    "\n",
    "langs = set(list(sample['data']['lang'] for sample in data) + (list(data_path_dict.keys())))\n",
    "sampled_dfs = []\n",
    "for lang in langs:\n",
    "    df_lang = df[df['data'].apply(lambda x: x['lang'] == lang)]\n",
    "    df_pos_lang = df_lang[df_lang['data'].apply(lambda x: x['label'] == 1)]\n",
    "    df_neg_lang = df_lang[df_lang['data'].apply(lambda x: x['label'] == 0)]\n",
    "    if len(df_neg_lang) > len(df_pos_lang):\n",
    "        df_neg_lang = df_neg_lang.sample(len(df_pos_lang))\n",
    "    df_lang_sampled = pd.concat([df_pos_lang, df_neg_lang])\n",
    "    sampled_dfs.append(df_lang_sampled)\n",
    "df_sampled = pd.concat(sampled_dfs, ignore_index=True)\n",
    "df_sampled = df_sampled.sample(frac=1, random_state=42).reset_index(drop=True)\n",
    "\n",
    "dataset = Dataset.from_pandas(df_sampled)"
   ]
  },
  {
   "cell_type": "code",
   "execution_count": 6,
   "metadata": {},
   "outputs": [
    {
     "name": "stderr",
     "output_type": "stream",
     "text": [
      "/opt/miniconda3/envs/checkthat/lib/python3.8/site-packages/huggingface_hub/file_download.py:1132: FutureWarning: `resume_download` is deprecated and will be removed in version 1.0.0. Downloads always resume when possible. If you want to force a new download, use `force_download=True`.\n",
      "  warnings.warn(\n",
      "/opt/miniconda3/envs/checkthat/lib/python3.8/site-packages/transformers/convert_slow_tokenizer.py:560: UserWarning: The sentencepiece tokenizer that you are converting to a fast tokenizer uses the byte fallback option which is not implemented in the fast tokenizers. In practice this means that the fast version of the tokenizer can produce unknown tokens whereas the sentencepiece version would have converted these unknown tokens into a sequence of byte tokens matching the original piece of text.\n",
      "  warnings.warn(\n",
      "Map:   0%|          | 0/90720 [00:00<?, ? examples/s]Asking to truncate to max_length but no maximum length is provided and the model has no predefined maximum length. Default to no truncation.\n",
      "Map: 100%|██████████| 90720/90720 [00:35<00:00, 2561.46 examples/s]\n",
      "Map: 100%|██████████| 22681/22681 [00:08<00:00, 2541.28 examples/s]\n"
     ]
    }
   ],
   "source": [
    "### This code splits the balanced dataset in train/test splits and tokenizes both with dynamic padding\n",
    "\n",
    "#model_name = 'bert-base-multilingual-cased'\n",
    "#model_name = 'xlm-roberta-base'\n",
    "model_name = 'microsoft/mdeberta-v3-base'\n",
    "tokenizer = AutoTokenizer.from_pretrained(model_name)\n",
    "\n",
    "split_ratio = 0.2\n",
    "split_seed = 42\n",
    "batch_size = 16\n",
    "\n",
    "datadict = dataset.train_test_split(split_ratio, seed=split_seed)\n",
    "datadict = datadict.map(lambda x: tokenize_sequence_classification(x, tokenizer),\n",
    "                            batch_size=batch_size,\n",
    "                            batched=True\n",
    "                            )\n",
    "\n",
    "columns = [\n",
    "            'input_ids',\n",
    "            'token_type_ids', #non per xlm-roberta\n",
    "            'attention_mask',\n",
    "            'labels'\n",
    "            ]\n",
    "datadict.set_format('torch', columns = columns)\n",
    "\n",
    "train_data = datadict['train'] # no aug: 33,345 samples, with aug: 90,720\n",
    "val_data = datadict['test'] # no aug: 8,337 samples, with aug: 22,681\n",
    "\n",
    "collate_fn = DataCollatorWithPadding(tokenizer=tokenizer, padding='longest')"
   ]
  },
  {
   "cell_type": "code",
   "execution_count": 7,
   "metadata": {},
   "outputs": [
    {
     "name": "stderr",
     "output_type": "stream",
     "text": [
      "Some weights of DebertaV2ForSequenceClassification were not initialized from the model checkpoint at microsoft/mdeberta-v3-base and are newly initialized: ['classifier.bias', 'classifier.weight', 'pooler.dense.bias', 'pooler.dense.weight']\n",
      "You should probably TRAIN this model on a down-stream task to be able to use it for predictions and inference.\n",
      "huggingface/tokenizers: The current process just got forked, after parallelism has already been used. Disabling parallelism to avoid deadlocks...\n",
      "To disable this warning, you can either:\n",
      "\t- Avoid using `tokenizers` before the fork if possible\n",
      "\t- Explicitly set the environment variable TOKENIZERS_PARALLELISM=(true | false)\n"
     ]
    }
   ],
   "source": [
    "model = AutoModelForSequenceClassification.from_pretrained(model_name, num_labels=2)\n",
    "\n",
    "training_args = TrainingArguments(output_dir='/home/lgiordano/LUCA/checkthat_GITHUB/models/M1/RUN_OTTOBRE/aug/aug, lr 5e-5',\n",
    "                                  save_total_limit=1000,\n",
    "                                  save_strategy='epoch',\n",
    "                                  load_best_model_at_end=True,\n",
    "                                  save_only_model=True,\n",
    "                                  metric_for_best_model='eval_macro-f1',\n",
    "                                  logging_strategy='epoch',\n",
    "                                  evaluation_strategy='epoch',\n",
    "                                  learning_rate=5e-5, #2e-5,\n",
    "                                  optim='adamw_torch',\n",
    "                                  num_train_epochs=10)\n",
    "\n",
    "early_stopping = EarlyStoppingCallback(early_stopping_patience=2)\n",
    "\n",
    "def compute_metrics(eval_preds):\n",
    "    logits, labels = eval_preds\n",
    "    preds = np.argmax(logits, axis=-1)\n",
    "    results = classification_report(labels, preds, output_dict=True)\n",
    "    results['macro-f1'] = results['macro avg']['f1-score']\n",
    "\n",
    "    models_dir = '/home/lgiordano/LUCA/checkthat_GITHUB/models/M1/RUN_OTTOBRE/aug/aug, lr 5e-5'\n",
    "    #model_name_simple = model_name.split('/')[-1]\n",
    "    model_save_name = f'{date_time}_aug'\n",
    "    model_save_dir = os.path.join(models_dir, model_save_name)\n",
    "    if not os.path.exists(model_save_dir):\n",
    "        os.makedirs(model_save_dir)\n",
    "    with open(os.path.join(model_save_dir, 'results.json'), 'w', encoding='utf8') as f:\n",
    "        json.dump(results, f, ensure_ascii = False)\n",
    "\n",
    "    return results"
   ]
  },
  {
   "cell_type": "code",
   "execution_count": 8,
   "metadata": {},
   "outputs": [],
   "source": [
    "trainer = Trainer(\n",
    "    model,\n",
    "    training_args,\n",
    "    train_dataset=train_data,\n",
    "    eval_dataset=val_data,\n",
    "    data_collator=collate_fn,\n",
    "    tokenizer=tokenizer,\n",
    "    compute_metrics=compute_metrics,\n",
    "    callbacks=[early_stopping]\n",
    ")"
   ]
  },
  {
   "cell_type": "code",
   "execution_count": 9,
   "metadata": {},
   "outputs": [
    {
     "data": {
      "text/html": [
       "\n",
       "    <div>\n",
       "      \n",
       "      <progress value='34020' max='113400' style='width:300px; height:20px; vertical-align: middle;'></progress>\n",
       "      [ 34020/113400 1:04:33 < 2:30:39, 8.78 it/s, Epoch 3/10]\n",
       "    </div>\n",
       "    <table border=\"1\" class=\"dataframe\">\n",
       "  <thead>\n",
       " <tr style=\"text-align: left;\">\n",
       "      <th>Epoch</th>\n",
       "      <th>Training Loss</th>\n",
       "      <th>Validation Loss</th>\n",
       "      <th>0</th>\n",
       "      <th>1</th>\n",
       "      <th>Accuracy</th>\n",
       "      <th>Macro avg</th>\n",
       "      <th>Weighted avg</th>\n",
       "      <th>Macro-f1</th>\n",
       "    </tr>\n",
       "  </thead>\n",
       "  <tbody>\n",
       "    <tr>\n",
       "      <td>1</td>\n",
       "      <td>0.625800</td>\n",
       "      <td>0.695137</td>\n",
       "      <td>{'precision': 0.0, 'recall': 0.0, 'f1-score': 0.0, 'support': 11260.0}</td>\n",
       "      <td>{'precision': 0.5035492262245933, 'recall': 1.0, 'f1-score': 0.6698140871503138, 'support': 11421.0}</td>\n",
       "      <td>0.503549</td>\n",
       "      <td>{'precision': 0.25177461311229665, 'recall': 0.5, 'f1-score': 0.3349070435751569, 'support': 22681.0}</td>\n",
       "      <td>{'precision': 0.25356182323138665, 'recall': 0.5035492262245933, 'f1-score': 0.3372843652988728, 'support': 22681.0}</td>\n",
       "      <td>0.334907</td>\n",
       "    </tr>\n",
       "    <tr>\n",
       "      <td>2</td>\n",
       "      <td>0.667000</td>\n",
       "      <td>0.956340</td>\n",
       "      <td>{'precision': 0.49645077377540675, 'recall': 1.0, 'f1-score': 0.6635043163136031, 'support': 11260.0}</td>\n",
       "      <td>{'precision': 0.0, 'recall': 0.0, 'f1-score': 0.0, 'support': 11421.0}</td>\n",
       "      <td>0.496451</td>\n",
       "      <td>{'precision': 0.24822538688770338, 'recall': 0.5, 'f1-score': 0.33175215815680154, 'support': 22681.0}</td>\n",
       "      <td>{'precision': 0.2464633707822001, 'recall': 0.49645077377540675, 'f1-score': 0.32939723123721043, 'support': 22681.0}</td>\n",
       "      <td>0.331752</td>\n",
       "    </tr>\n",
       "    <tr>\n",
       "      <td>3</td>\n",
       "      <td>0.652700</td>\n",
       "      <td>0.977164</td>\n",
       "      <td>{'precision': 0.49645077377540675, 'recall': 1.0, 'f1-score': 0.6635043163136031, 'support': 11260.0}</td>\n",
       "      <td>{'precision': 0.0, 'recall': 0.0, 'f1-score': 0.0, 'support': 11421.0}</td>\n",
       "      <td>0.496451</td>\n",
       "      <td>{'precision': 0.24822538688770338, 'recall': 0.5, 'f1-score': 0.33175215815680154, 'support': 22681.0}</td>\n",
       "      <td>{'precision': 0.2464633707822001, 'recall': 0.49645077377540675, 'f1-score': 0.32939723123721043, 'support': 22681.0}</td>\n",
       "      <td>0.331752</td>\n",
       "    </tr>\n",
       "  </tbody>\n",
       "</table><p>"
      ],
      "text/plain": [
       "<IPython.core.display.HTML object>"
      ]
     },
     "metadata": {},
     "output_type": "display_data"
    },
    {
     "name": "stderr",
     "output_type": "stream",
     "text": [
      "/opt/miniconda3/envs/checkthat/lib/python3.8/site-packages/sklearn/metrics/_classification.py:1471: UndefinedMetricWarning: Precision and F-score are ill-defined and being set to 0.0 in labels with no predicted samples. Use `zero_division` parameter to control this behavior.\n",
      "  _warn_prf(average, modifier, msg_start, len(result))\n",
      "/opt/miniconda3/envs/checkthat/lib/python3.8/site-packages/sklearn/metrics/_classification.py:1471: UndefinedMetricWarning: Precision and F-score are ill-defined and being set to 0.0 in labels with no predicted samples. Use `zero_division` parameter to control this behavior.\n",
      "  _warn_prf(average, modifier, msg_start, len(result))\n",
      "/opt/miniconda3/envs/checkthat/lib/python3.8/site-packages/sklearn/metrics/_classification.py:1471: UndefinedMetricWarning: Precision and F-score are ill-defined and being set to 0.0 in labels with no predicted samples. Use `zero_division` parameter to control this behavior.\n",
      "  _warn_prf(average, modifier, msg_start, len(result))\n",
      "/opt/miniconda3/envs/checkthat/lib/python3.8/site-packages/sklearn/metrics/_classification.py:1471: UndefinedMetricWarning: Precision and F-score are ill-defined and being set to 0.0 in labels with no predicted samples. Use `zero_division` parameter to control this behavior.\n",
      "  _warn_prf(average, modifier, msg_start, len(result))\n",
      "/opt/miniconda3/envs/checkthat/lib/python3.8/site-packages/sklearn/metrics/_classification.py:1471: UndefinedMetricWarning: Precision and F-score are ill-defined and being set to 0.0 in labels with no predicted samples. Use `zero_division` parameter to control this behavior.\n",
      "  _warn_prf(average, modifier, msg_start, len(result))\n",
      "/opt/miniconda3/envs/checkthat/lib/python3.8/site-packages/sklearn/metrics/_classification.py:1471: UndefinedMetricWarning: Precision and F-score are ill-defined and being set to 0.0 in labels with no predicted samples. Use `zero_division` parameter to control this behavior.\n",
      "  _warn_prf(average, modifier, msg_start, len(result))\n",
      "/opt/miniconda3/envs/checkthat/lib/python3.8/site-packages/sklearn/metrics/_classification.py:1471: UndefinedMetricWarning: Precision and F-score are ill-defined and being set to 0.0 in labels with no predicted samples. Use `zero_division` parameter to control this behavior.\n",
      "  _warn_prf(average, modifier, msg_start, len(result))\n",
      "/opt/miniconda3/envs/checkthat/lib/python3.8/site-packages/sklearn/metrics/_classification.py:1471: UndefinedMetricWarning: Precision and F-score are ill-defined and being set to 0.0 in labels with no predicted samples. Use `zero_division` parameter to control this behavior.\n",
      "  _warn_prf(average, modifier, msg_start, len(result))\n",
      "/opt/miniconda3/envs/checkthat/lib/python3.8/site-packages/sklearn/metrics/_classification.py:1471: UndefinedMetricWarning: Precision and F-score are ill-defined and being set to 0.0 in labels with no predicted samples. Use `zero_division` parameter to control this behavior.\n",
      "  _warn_prf(average, modifier, msg_start, len(result))\n"
     ]
    },
    {
     "data": {
      "text/plain": [
       "TrainOutput(global_step=34020, training_loss=0.6485080869249706, metrics={'train_runtime': 3874.4686, 'train_samples_per_second': 234.148, 'train_steps_per_second': 29.269, 'total_flos': 2.253763384809504e+16, 'train_loss': 0.6485080869249706, 'epoch': 3.0})"
      ]
     },
     "execution_count": 9,
     "metadata": {},
     "output_type": "execute_result"
    }
   ],
   "source": [
    "trainer.train()"
   ]
  },
  {
   "cell_type": "code",
   "execution_count": 10,
   "metadata": {},
   "outputs": [
    {
     "data": {
      "text/html": [
       "\n",
       "    <div>\n",
       "      \n",
       "      <progress value='2836' max='2836' style='width:300px; height:20px; vertical-align: middle;'></progress>\n",
       "      [2836/2836 00:38]\n",
       "    </div>\n",
       "    "
      ],
      "text/plain": [
       "<IPython.core.display.HTML object>"
      ]
     },
     "metadata": {},
     "output_type": "display_data"
    },
    {
     "name": "stderr",
     "output_type": "stream",
     "text": [
      "/opt/miniconda3/envs/checkthat/lib/python3.8/site-packages/sklearn/metrics/_classification.py:1471: UndefinedMetricWarning: Precision and F-score are ill-defined and being set to 0.0 in labels with no predicted samples. Use `zero_division` parameter to control this behavior.\n",
      "  _warn_prf(average, modifier, msg_start, len(result))\n",
      "/opt/miniconda3/envs/checkthat/lib/python3.8/site-packages/sklearn/metrics/_classification.py:1471: UndefinedMetricWarning: Precision and F-score are ill-defined and being set to 0.0 in labels with no predicted samples. Use `zero_division` parameter to control this behavior.\n",
      "  _warn_prf(average, modifier, msg_start, len(result))\n",
      "/opt/miniconda3/envs/checkthat/lib/python3.8/site-packages/sklearn/metrics/_classification.py:1471: UndefinedMetricWarning: Precision and F-score are ill-defined and being set to 0.0 in labels with no predicted samples. Use `zero_division` parameter to control this behavior.\n",
      "  _warn_prf(average, modifier, msg_start, len(result))\n"
     ]
    },
    {
     "data": {
      "text/plain": [
       "{'eval_loss': 0.6951372027397156,\n",
       " 'eval_0': {'precision': 0.0,\n",
       "  'recall': 0.0,\n",
       "  'f1-score': 0.0,\n",
       "  'support': 11260.0},\n",
       " 'eval_1': {'precision': 0.5035492262245933,\n",
       "  'recall': 1.0,\n",
       "  'f1-score': 0.6698140871503138,\n",
       "  'support': 11421.0},\n",
       " 'eval_accuracy': 0.5035492262245933,\n",
       " 'eval_macro avg': {'precision': 0.25177461311229665,\n",
       "  'recall': 0.5,\n",
       "  'f1-score': 0.3349070435751569,\n",
       "  'support': 22681.0},\n",
       " 'eval_weighted avg': {'precision': 0.25356182323138665,\n",
       "  'recall': 0.5035492262245933,\n",
       "  'f1-score': 0.3372843652988728,\n",
       "  'support': 22681.0},\n",
       " 'eval_macro-f1': 0.3349070435751569,\n",
       " 'eval_runtime': 38.4416,\n",
       " 'eval_samples_per_second': 590.012,\n",
       " 'eval_steps_per_second': 73.774,\n",
       " 'epoch': 3.0}"
      ]
     },
     "execution_count": 10,
     "metadata": {},
     "output_type": "execute_result"
    }
   ],
   "source": [
    "trainer.evaluate()"
   ]
  }
 ],
 "metadata": {
  "kernelspec": {
   "display_name": "checkthat",
   "language": "python",
   "name": "python3"
  },
  "language_info": {
   "codemirror_mode": {
    "name": "ipython",
    "version": 3
   },
   "file_extension": ".py",
   "mimetype": "text/x-python",
   "name": "python",
   "nbconvert_exporter": "python",
   "pygments_lexer": "ipython3",
   "version": "3.8.18"
  }
 },
 "nbformat": 4,
 "nbformat_minor": 2
}
