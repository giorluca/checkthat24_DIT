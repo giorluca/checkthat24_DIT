{
 "cells": [
  {
   "cell_type": "code",
   "execution_count": null,
   "metadata": {},
   "outputs": [],
   "source": [
    "import json\n",
    "import pandas as pd\n",
    "import os\n",
    "from datetime import datetime\n",
    "from datasets import Dataset\n",
    "from transformers import AutoTokenizer, AutoModelForSequenceClassification, DataCollatorWithPadding, TrainingArguments, Trainer, EarlyStoppingCallback\n",
    "from train_seq import tokenize_sequence_classification\n",
    "import numpy as np\n",
    "from sklearn.metrics import classification_report"
   ]
  },
  {
   "cell_type": "code",
   "execution_count": 2,
   "metadata": {},
   "outputs": [],
   "source": [
    "train_data_path = '/home/lgiordano/LUCA/checkthat_GITHUB/data/formatted/train_sentences.json'\n",
    "with open(train_data_path, 'r', encoding='utf8') as f:\n",
    "    data = json.load(f)\n",
    "df = pd.DataFrame(data)"
   ]
  },
  {
   "cell_type": "code",
   "execution_count": 3,
   "metadata": {},
   "outputs": [],
   "source": [
    "data_path_dict = {\n",
    "'sl': '/home/lgiordano/LUCA/checkthat_GITHUB/data/train_sent_mt/sl/train_gold_sentences_translated_nllb-200-3.3B_eng_Latn-slv_Latn_tok_regex_en-sl/train_gold_sentences_translated_nllb-200-3.3B_eng_Latn-slv_Latn_tok_regex_en-sl_mdeberta-v3-base_mdeberta_xlwa_en-sl_ME3_2024-05-04-12-12-14_ls.json',\n",
    "'ru': '/home/lgiordano/LUCA/checkthat_GITHUB/data/train_sent_mt/ru/train_gold_sentences_translated_nllb-200-3.3B_eng_Latn-rus_Cyrl_tok_regex_en-ru/train_gold_sentences_translated_nllb-200-3.3B_eng_Latn-rus_Cyrl_tok_regex_en-ru_mdeberta-v3-base_mdeberta_xlwa_en-ru_ME3_2024-05-04-12-09-20_ls.json',\n",
    "'pt': '/home/lgiordano/LUCA/checkthat_GITHUB/data/train_sent_mt/pt/train_gold_sentences_translated_nllb-200-3.3B_eng_Latn-por_Latn_tok_regex_en-pt/train_gold_sentences_translated_nllb-200-3.3B_eng_Latn-por_Latn_tok_regex_en-pt_mdeberta-v3-base_mdeberta_xlwa_en-pt_ME3_2024-05-04-12-07-45_ls.json',\n",
    "'it': '/home/lgiordano/LUCA/checkthat_GITHUB/data/train_sent_mt/it/train_gold_sentences_translated_nllb-200-3.3B_eng_Latn-ita_Latn_tok_regex_en-it/train_gold_sentences_translated_nllb-200-3.3B_eng_Latn-ita_Latn_tok_regex_en-it_mdeberta-v3-base_mdeberta_xlwa_en-it_ME3_2024-05-04-12-05-00_ls.json',\n",
    "'es': '/home/lgiordano/LUCA/checkthat_GITHUB/data/train_sent_mt/es/train_gold_sentences_translated_nllb-200-3.3B_eng_Latn-spa_Latn_tok_regex_en-es/train_gold_sentences_translated_nllb-200-3.3B_eng_Latn-spa_Latn_tok_regex_en-es_mdeberta-v3-base_mdeberta_xlwa_en-es_ME3_2024-05-04-12-01-43_ls.json',\n",
    "'bg': '/home/lgiordano/LUCA/checkthat_GITHUB/data/train_sent_mt/bg/train_gold_sentences_translated_nllb-200-3.3B_eng_Latn-bul_Cyrl_tok_regex_en-bg/train_gold_sentences_translated_nllb-200-3.3B_eng_Latn-bul_Cyrl_tok_regex_en-bg_mdeberta-v3-base_mdeberta_xlwa_en-bg_ME3_2024-05-04-11-58-52_ls.json',\n",
    "'ar': '/home/lgiordano/LUCA/checkthat_GITHUB/data/aug_NEW/araieval24_all_bin_formatted.json'\n",
    "}\n",
    "\n",
    "dataset_aug = []\n",
    "for key in data_path_dict:\n",
    "    with open(data_path_dict[key], 'r', encoding='utf8') as f:\n",
    "        dataset_aug_buffer = json.load(f)\n",
    "        dataset_aug_buffer = [sample for sample in dataset_aug_buffer if sample['data'].get('type') != 'tweet'] #filter out tweets from ar\n",
    "        \n",
    "        for sample in dataset_aug_buffer:\n",
    "            if 'text_en' in sample['data']:\n",
    "                del sample['data']['text_en']\n",
    "            if f'text_{key}' in sample['data']:\n",
    "                sample['data']['text'] = sample['data'][f'text_{key}']\n",
    "                del sample['data'][f'text_{key}']\n",
    "            sample['data']['lang'] = key\n",
    "            if 'labels' in sample['data']:\n",
    "                sample['data']['label'] = sample['data'].pop('labels')\n",
    "        dataset_aug += dataset_aug_buffer\n",
    "\n",
    "semeval_24 = json.load(open('/home/lgiordano/LUCA/checkthat_GITHUB/data/aug_NEW/semeval24_all_bin_formatted.json', encoding='utf-8'))\n",
    "dataset_aug += semeval_24\n",
    "\n",
    "df_aug = pd.DataFrame(dataset_aug)\n",
    "df = pd.concat([df, df_aug])"
   ]
  },
  {
   "cell_type": "code",
   "execution_count": 4,
   "metadata": {},
   "outputs": [],
   "source": [
    "### This code balances positive and negative samples for each language by down-sampling the larger group ###\n",
    "date_time = datetime.now().strftime(\"%Y-%m-%d-%H-%M-%S\")\n",
    "\n",
    "langs = set(list(sample['data']['lang'] for sample in data) + (list(data_path_dict.keys())))\n",
    "\n",
    "sampled_dfs = []\n",
    "for lang in langs:\n",
    "    df_lang = df[df['data'].apply(lambda x: x['lang'] == lang)]\n",
    "    df_pos_lang = df_lang[df_lang['data'].apply(lambda x: x['label'] == 1)]\n",
    "    df_neg_lang = df_lang[df_lang['data'].apply(lambda x: x['label'] == 0)]\n",
    "    if len(df_neg_lang) > len(df_pos_lang):\n",
    "        df_neg_lang = df_neg_lang.sample(len(df_pos_lang))\n",
    "    df_lang_sampled = pd.concat([df_pos_lang, df_neg_lang])\n",
    "    sampled_dfs.append(df_lang_sampled)\n",
    "df_sampled = pd.concat(sampled_dfs, ignore_index=True)\n",
    "df_sampled = df_sampled.sample(frac=1, random_state=42).reset_index(drop=True)\n",
    "dataset = Dataset.from_pandas(df_sampled)"
   ]
  },
  {
   "cell_type": "code",
   "execution_count": null,
   "metadata": {},
   "outputs": [],
   "source": [
    "### This code splits the balanced dataset in train/test splits and tokenizes both with dynamic padding\n",
    "\n",
    "#model_name = 'bert-base-multilingual-cased'\n",
    "#model_name = 'xlm-roberta-base'\n",
    "model_name = 'microsoft/mdeberta-v3-base'\n",
    "tokenizer = AutoTokenizer.from_pretrained(model_name)\n",
    "\n",
    "split_ratio = 0.2\n",
    "split_seed = 42\n",
    "batch_size = 16\n",
    "\n",
    "datadict = dataset.train_test_split(split_ratio, seed=split_seed)\n",
    "datadict = datadict.map(lambda x: tokenize_sequence_classification(x, tokenizer),\n",
    "                            batch_size=batch_size,\n",
    "                            batched=True\n",
    "                            )\n",
    "\n",
    "columns = [\n",
    "            'input_ids',\n",
    "            'token_type_ids', #non per xlm-roberta\n",
    "            'attention_mask',\n",
    "            'labels'\n",
    "            ]\n",
    "datadict.set_format('torch', columns = columns)\n",
    "\n",
    "train_data = datadict['train'] # no aug: 33,345 samples, with aug: 90,720, + ARAIEVAL24(tweet+news): 97,892, + ARAIEVAL24(news) & SEMEVAL24: 108,471\n",
    "val_data = datadict['test'] # no aug: 8,337 samples, with aug: 22,681, + ARAIEVAL24(tweet+news): 24,473, + ARAIEVAL24(news) & SEMEVAL24: 27,118\n",
    "\n",
    "collate_fn = DataCollatorWithPadding(tokenizer=tokenizer, padding='longest')"
   ]
  },
  {
   "cell_type": "code",
   "execution_count": null,
   "metadata": {},
   "outputs": [],
   "source": [
    "model = AutoModelForSequenceClassification.from_pretrained(model_name, num_labels=2)\n",
    "\n",
    "training_args = TrainingArguments(output_dir='/home/lgiordano/LUCA/checkthat_GITHUB/models/M1/RUN_OTTOBRE/aug/aug, lr 2e-5, + ARAIEVAL(news) & SEMEVAL24',\n",
    "                                  save_total_limit=1000,\n",
    "                                  save_strategy='epoch',\n",
    "                                  load_best_model_at_end=True,\n",
    "                                  save_only_model=True,\n",
    "                                  metric_for_best_model='eval_macro-f1',\n",
    "                                  logging_strategy='epoch',\n",
    "                                  evaluation_strategy='epoch',\n",
    "                                  learning_rate=2e-5, #5e-5,\n",
    "                                  optim='adamw_torch',\n",
    "                                  num_train_epochs=10)\n",
    "\n",
    "early_stopping = EarlyStoppingCallback(early_stopping_patience=2)\n",
    "\n",
    "def compute_metrics(eval_preds):\n",
    "    logits, labels = eval_preds\n",
    "    preds = np.argmax(logits, axis=-1)\n",
    "    results = classification_report(labels, preds, output_dict=True)\n",
    "    results['macro-f1'] = results['macro avg']['f1-score']\n",
    "\n",
    "    models_dir = '/home/lgiordano/LUCA/checkthat_GITHUB/models/M1/RUN_OTTOBRE/aug/aug, lr 2e-5, + ARAIEVAL(news) & SEMEVAL24'\n",
    "    #model_name_simple = model_name.split('/')[-1]\n",
    "    model_save_name = f'{date_time}_aug'\n",
    "    model_save_dir = os.path.join(models_dir, model_save_name)\n",
    "    if not os.path.exists(model_save_dir):\n",
    "        os.makedirs(model_save_dir)\n",
    "    with open(os.path.join(model_save_dir, 'results.json'), 'w', encoding='utf8') as f:\n",
    "        json.dump(results, f, ensure_ascii = False)\n",
    "\n",
    "    return results"
   ]
  },
  {
   "cell_type": "code",
   "execution_count": 7,
   "metadata": {},
   "outputs": [],
   "source": [
    "trainer = Trainer(\n",
    "    model,\n",
    "    training_args,\n",
    "    train_dataset=train_data,\n",
    "    eval_dataset=val_data,\n",
    "    data_collator=collate_fn,\n",
    "    tokenizer=tokenizer,\n",
    "    compute_metrics=compute_metrics,\n",
    "    callbacks=[early_stopping]\n",
    ")"
   ]
  },
  {
   "cell_type": "code",
   "execution_count": null,
   "metadata": {},
   "outputs": [],
   "source": [
    "trainer.train()"
   ]
  },
  {
   "cell_type": "code",
   "execution_count": null,
   "metadata": {},
   "outputs": [],
   "source": [
    "trainer.evaluate()"
   ]
  }
 ],
 "metadata": {
  "kernelspec": {
   "display_name": "checkthat",
   "language": "python",
   "name": "python3"
  },
  "language_info": {
   "codemirror_mode": {
    "name": "ipython",
    "version": 3
   },
   "file_extension": ".py",
   "mimetype": "text/x-python",
   "name": "python",
   "nbconvert_exporter": "python",
   "pygments_lexer": "ipython3",
   "version": "3.8.18"
  }
 },
 "nbformat": 4,
 "nbformat_minor": 2
}
