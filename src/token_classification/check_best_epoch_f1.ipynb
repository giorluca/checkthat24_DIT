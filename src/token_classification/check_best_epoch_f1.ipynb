{
 "cells": [
  {
   "cell_type": "code",
   "execution_count": 2,
   "metadata": {},
   "outputs": [
    {
     "name": "stdout",
     "output_type": "stream",
     "text": [
      "                persuasion_technique        f1\n",
      "21   Obfuscation-Vagueness-Confusion  0.083916\n",
      "22          Appeal_to_Fear-Prejudice  0.171694\n",
      "18               Appeal_to_Authority  0.173913\n",
      "16         Exaggeration-Minimisation  0.175055\n",
      "0                     Appeal_to_Time  0.181818\n",
      "12              Guilt_by_Association  0.191388\n",
      "7                          Straw_Man  0.213115\n",
      "8                        Red_Herring  0.228571\n",
      "2                       Whataboutism  0.238806\n",
      "1                   Appeal_to_Values  0.245734\n",
      "19                       Flag_Waving  0.257143\n",
      "10        Questioning_the_Reputation  0.257812\n",
      "5               Appeal_to_Popularity  0.274194\n",
      "9                Appeal_to_Hypocrisy  0.288344\n",
      "20                   Loaded_Language  0.289218\n",
      "14                             Doubt  0.307329\n",
      "3          Causal_Oversimplification  0.314815\n",
      "13                           Slogans  0.334842\n",
      "6            False_Dilemma-No_Choice  0.348837\n",
      "11  Consequential_Oversimplification  0.349206\n",
      "17                        Repetition  0.377907\n",
      "15             Name_Calling-Labeling  0.419660\n",
      "4                Conversation_Killer  0.427711\n",
      "mean avg f1: 0.26743589722080796\n"
     ]
    }
   ],
   "source": [
    "import json\n",
    "import os\n",
    "import pandas as pd\n",
    "\n",
    "path = '''/home/lgiordano/LUCA/checkthat_GITHUB/models/M2/RUN_OTTOBRE/only_results/2024-10-02-18-16-13'''\n",
    "results = []\n",
    "for subdir in os.listdir(path):\n",
    "    json_file_path = os.path.join(path, subdir, 'results.json')\n",
    "    \n",
    "    # Check if the results.json file exists\n",
    "    if os.path.exists(json_file_path):\n",
    "        with open(json_file_path) as f:\n",
    "            res = json.load(f)\n",
    "            # res = res['results'][res['best_epoch']-1]\n",
    "            metrics = list(res.items())[3:4]\n",
    "            results.append(metrics)\n",
    "\n",
    "#print(results)\n",
    "\n",
    "# Define the column names\n",
    "columns = ['persuasion_technique', 'f1']\n",
    "\n",
    "# Initialize an empty list to store the transformed data\n",
    "transformed_data = []\n",
    "\n",
    "# Iterate through the original data and transform it\n",
    "for sublist in results:\n",
    "    technique_data = {}\n",
    "    for item in sublist:\n",
    "        key, value = item\n",
    "        if '_f1-score' in key:\n",
    "            technique = key.split('_f1-score')[0]\n",
    "            metric = 'f1-score'\n",
    "        if technique not in technique_data:\n",
    "            technique_data[technique] = {}\n",
    "        technique_data[technique][metric] = value\n",
    "    for technique, metrics in technique_data.items():\n",
    "        transformed_data.append([technique, metrics.get('f1-score', None)])\n",
    "\n",
    "# Create a DataFrame\n",
    "df = pd.DataFrame(transformed_data, columns=columns)\n",
    "\n",
    "print(df.sort_values('f1'))\n",
    "\n",
    "print('mean avg f1:', df['f1'].mean())"
   ]
  },
  {
   "cell_type": "code",
   "execution_count": 2,
   "metadata": {},
   "outputs": [
    {
     "name": "stdout",
     "output_type": "stream",
     "text": [
      "Empty DataFrame\n",
      "Columns: [macro_f1]\n",
      "Index: []\n",
      "Mean avg macro_f1: nan\n"
     ]
    }
   ],
   "source": [
    "import json\n",
    "import os\n",
    "import pandas as pd\n",
    "\n",
    "# Define the path to the directory containing result subdirectories\n",
    "path = '/home/lgiordano/LUCA/checkthat_GITHUB/models/M2/RUN_OTTOBRE/weights_and_results/model_weights'\n",
    "results = []\n",
    "\n",
    "# Iterate through each subdirectory in the main path\n",
    "for subdir in os.listdir(path):\n",
    "    json_file_path = os.path.join(path, subdir, 'results.json')\n",
    "    \n",
    "    # Check if the results.json file exists\n",
    "    if os.path.exists(json_file_path):\n",
    "        with open(json_file_path) as f:\n",
    "            res = json.load(f)\n",
    "            # Extract the best epoch (adjusted for zero-based indexing)\n",
    "            best_epoch_index = res['best_epoch'] - 1\n",
    "            # Access the best epoch data from the results array\n",
    "            best_epoch_data = res['results'][best_epoch_index]\n",
    "            # Extract the macro avg_f1-score\n",
    "            macro_f1 = best_epoch_data.get('macro avg_f1-score', None)\n",
    "            if macro_f1 is not None:\n",
    "                results.append(macro_f1)\n",
    "\n",
    "# Create a DataFrame to store the results\n",
    "df = pd.DataFrame(results, columns=['macro_f1'])\n",
    "\n",
    "# Print the DataFrame sorted by macro_f1 and calculate the mean\n",
    "print(df.sort_values('macro_f1'))\n",
    "print('Mean avg macro_f1:', df['macro_f1'].mean())"
   ]
  }
 ],
 "metadata": {
  "kernelspec": {
   "display_name": "checkthat",
   "language": "python",
   "name": "python3"
  },
  "language_info": {
   "codemirror_mode": {
    "name": "ipython",
    "version": 3
   },
   "file_extension": ".py",
   "mimetype": "text/x-python",
   "name": "python",
   "nbconvert_exporter": "python",
   "pygments_lexer": "ipython3",
   "version": "3.8.18"
  }
 },
 "nbformat": 4,
 "nbformat_minor": 2
}
