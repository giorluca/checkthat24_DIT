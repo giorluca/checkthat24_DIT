{
 "cells": [
  {
   "cell_type": "code",
   "execution_count": 22,
   "metadata": {},
   "outputs": [
    {
     "name": "stdout",
     "output_type": "stream",
     "text": [
      "                persuasion_technique        f1\n",
      "0              Name_Calling-Labeling  0.516591\n",
      "1                              Doubt  0.314741\n",
      "2          Causal_Oversimplification  0.492147\n",
      "3                         Repetition  0.642384\n",
      "4          Exaggeration-Minimisation  0.343387\n",
      "5               Appeal_to_Popularity  0.257576\n",
      "6                          Straw_Man  0.000000\n",
      "7                Appeal_to_Hypocrisy  0.279503\n",
      "8                     Appeal_to_Time  0.119403\n",
      "9                        Red_Herring  0.377358\n",
      "10                   Loaded_Language  0.433210\n",
      "11               Appeal_to_Authority  0.272059\n",
      "12              Guilt_by_Association  0.227273\n",
      "13          Appeal_to_Fear-Prejudice  0.347619\n",
      "14   Obfuscation-Vagueness-Confusion  0.140351\n",
      "15                      Whataboutism  0.280702\n",
      "16                  Appeal_to_Values  0.303571\n",
      "17        Questioning_the_Reputation  0.157593\n",
      "18                           Slogans  0.388889\n",
      "19  Consequential_Oversimplification  0.380165\n",
      "20           False_Dilemma-No_Choice  0.443299\n",
      "21                       Flag_Waving  0.422111\n",
      "22               Conversation_Killer  0.403909\n",
      "mean avg f1: 0.32799305364122794\n"
     ]
    }
   ],
   "source": [
    "import json\n",
    "import os\n",
    "import pandas as pd\n",
    "\n",
    "path = '''/home/lgiordano/LUCA/checkthat_GITHUB/models/M2/RUN_OTTOBRE/weights_and_results/2024-10-14-17-05-35_aug_cw_ts0.9'''\n",
    "results = []\n",
    "for subdir in os.listdir(path):\n",
    "    res = json.load(open(os.path.join(path, subdir, 'results.json')))\n",
    "    #res = res['results'][res['best_epoch']-1]\n",
    "    metrics = list(res.items())[3:4]\n",
    "    #print(metrics)\n",
    "    results.append(metrics)\n",
    "\n",
    "#print(results)\n",
    "\n",
    "# Define the column names\n",
    "columns = ['persuasion_technique', 'f1']\n",
    "\n",
    "# Initialize an empty list to store the transformed data\n",
    "transformed_data = []\n",
    "\n",
    "# Iterate through the original data and transform it\n",
    "for sublist in results:\n",
    "    technique_data = {}\n",
    "    for item in sublist:\n",
    "        key, value = item\n",
    "        if '_f1-score' in key:\n",
    "            technique = key.split('_f1-score')[0]\n",
    "            metric = 'f1-score'\n",
    "        if technique not in technique_data:\n",
    "            technique_data[technique] = {}\n",
    "        technique_data[technique][metric] = value\n",
    "    for technique, metrics in technique_data.items():\n",
    "        transformed_data.append([technique, metrics.get('f1-score', None)])\n",
    "\n",
    "# Create a DataFrame\n",
    "df = pd.DataFrame(transformed_data, columns=columns)\n",
    "\n",
    "print(df)\n",
    "\n",
    "print('mean avg f1:', df['f1'].mean())\n"
   ]
  }
 ],
 "metadata": {
  "kernelspec": {
   "display_name": "checkthat",
   "language": "python",
   "name": "python3"
  },
  "language_info": {
   "codemirror_mode": {
    "name": "ipython",
    "version": 3
   },
   "file_extension": ".py",
   "mimetype": "text/x-python",
   "name": "python",
   "nbconvert_exporter": "python",
   "pygments_lexer": "ipython3",
   "version": "3.8.18"
  }
 },
 "nbformat": 4,
 "nbformat_minor": 2
}
