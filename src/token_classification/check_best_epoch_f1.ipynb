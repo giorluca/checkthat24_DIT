{
 "cells": [
  {
   "cell_type": "code",
   "execution_count": 16,
   "metadata": {},
   "outputs": [
    {
     "name": "stdout",
     "output_type": "stream",
     "text": [
      "                persuasion_technique        f1\n",
      "11   Obfuscation-Vagueness-Confusion  0.121739\n",
      "6                     Appeal_to_Time  0.179104\n",
      "8                   Appeal_to_Values  0.181818\n",
      "13                      Whataboutism  0.190476\n",
      "7               Appeal_to_Popularity  0.200000\n",
      "14                         Straw_Man  0.201835\n",
      "9                Appeal_to_Authority  0.266160\n",
      "12          Appeal_to_Fear-Prejudice  0.295943\n",
      "3   Consequential_Oversimplification  0.325581\n",
      "15               Conversation_Killer  0.357576\n",
      "17             Name_Calling-Labeling  0.373295\n",
      "18                       Red_Herring  0.380952\n",
      "16         Exaggeration-Minimisation  0.398104\n",
      "2                        Flag_Waving  0.407960\n",
      "4                    Loaded_Language  0.429153\n",
      "5                            Slogans  0.429268\n",
      "10           False_Dilemma-No_Choice  0.452632\n",
      "1          Causal_Oversimplification  0.497409\n",
      "0                         Repetition  0.668896\n",
      "mean avg f1: 0.3346264887623781\n"
     ]
    }
   ],
   "source": [
    "import json\n",
    "import os\n",
    "import pandas as pd\n",
    "\n",
    "path = '''/home/lgiordano/LUCA/checkthat_GITHUB/models/M2/RUN_OTTOBRE/weights_and_results/2024-10-31-10-16-40_aug_cw_ts0.9'''\n",
    "results = []\n",
    "for subdir in os.listdir(path):\n",
    "    json_file_path = os.path.join(path, subdir, 'results.json')\n",
    "    \n",
    "    # Check if the results.json file exists\n",
    "    if os.path.exists(json_file_path):\n",
    "        with open(json_file_path) as f:\n",
    "            res = json.load(f)\n",
    "            # res = res['results'][res['best_epoch']-1]\n",
    "            metrics = list(res.items())[3:4]\n",
    "            results.append(metrics)\n",
    "\n",
    "#print(results)\n",
    "\n",
    "# Define the column names\n",
    "columns = ['persuasion_technique', 'f1']\n",
    "\n",
    "# Initialize an empty list to store the transformed data\n",
    "transformed_data = []\n",
    "\n",
    "# Iterate through the original data and transform it\n",
    "for sublist in results:\n",
    "    technique_data = {}\n",
    "    for item in sublist:\n",
    "        key, value = item\n",
    "        if '_f1-score' in key:\n",
    "            technique = key.split('_f1-score')[0]\n",
    "            metric = 'f1-score'\n",
    "        if technique not in technique_data:\n",
    "            technique_data[technique] = {}\n",
    "        technique_data[technique][metric] = value\n",
    "    for technique, metrics in technique_data.items():\n",
    "        transformed_data.append([technique, metrics.get('f1-score', None)])\n",
    "\n",
    "# Create a DataFrame\n",
    "df = pd.DataFrame(transformed_data, columns=columns)\n",
    "\n",
    "print(df.sort_values('f1'))\n",
    "\n",
    "print('mean avg f1:', df['f1'].mean())"
   ]
  },
  {
   "cell_type": "code",
   "execution_count": 8,
   "metadata": {},
   "outputs": [
    {
     "name": "stdout",
     "output_type": "stream",
     "text": [
      "Empty DataFrame\n",
      "Columns: [macro_f1]\n",
      "Index: []\n",
      "Mean avg macro_f1: nan\n"
     ]
    }
   ],
   "source": [
    "import json\n",
    "import os\n",
    "import pandas as pd\n",
    "\n",
    "# Define the path to the directory containing result subdirectories\n",
    "path = '/home/lgiordano/LUCA/checkthat_GITHUB/models/M2/RUN_OTTOBRE/weights_and_results/model_weights'\n",
    "results = []\n",
    "\n",
    "# Iterate through each subdirectory in the main path\n",
    "for subdir in os.listdir(path):\n",
    "    json_file_path = os.path.join(path, subdir, 'results.json')\n",
    "    \n",
    "    # Check if the results.json file exists\n",
    "    if os.path.exists(json_file_path):\n",
    "        with open(json_file_path) as f:\n",
    "            res = json.load(f)\n",
    "            # Extract the best epoch (adjusted for zero-based indexing)\n",
    "            best_epoch_index = res['best_epoch'] - 1\n",
    "            # Access the best epoch data from the results array\n",
    "            best_epoch_data = res['results'][best_epoch_index]\n",
    "            # Extract the macro avg_f1-score\n",
    "            macro_f1 = best_epoch_data.get('macro avg_f1-score', None)\n",
    "            if macro_f1 is not None:\n",
    "                results.append(macro_f1)\n",
    "\n",
    "# Create a DataFrame to store the results\n",
    "df = pd.DataFrame(results, columns=['macro_f1'])\n",
    "\n",
    "# Print the DataFrame sorted by macro_f1 and calculate the mean\n",
    "print(df.sort_values('macro_f1'))\n",
    "print('Mean avg macro_f1:', df['macro_f1'].mean())"
   ]
  }
 ],
 "metadata": {
  "kernelspec": {
   "display_name": "checkthat",
   "language": "python",
   "name": "python3"
  },
  "language_info": {
   "codemirror_mode": {
    "name": "ipython",
    "version": 3
   },
   "file_extension": ".py",
   "mimetype": "text/x-python",
   "name": "python",
   "nbconvert_exporter": "python",
   "pygments_lexer": "ipython3",
   "version": "3.8.18"
  }
 },
 "nbformat": 4,
 "nbformat_minor": 2
}
