{
 "cells": [
  {
   "cell_type": "code",
   "execution_count": 1,
   "metadata": {},
   "outputs": [
    {
     "name": "stdout",
     "output_type": "stream",
     "text": [
      "                persuasion_technique        f1\n",
      "0           Appeal_to_Fear-Prejudice  0.330969\n",
      "1                    Loaded_Language  0.429609\n",
      "2                              Doubt  0.306399\n",
      "3          Exaggeration-Minimisation  0.393120\n",
      "4                            Slogans  0.531401\n",
      "5                          Straw_Man  0.205128\n",
      "6                         Repetition  0.678082\n",
      "7                        Flag_Waving  0.446602\n",
      "8            False_Dilemma-No_Choice  0.434783\n",
      "9                       Whataboutism  0.333333\n",
      "10                    Appeal_to_Time  0.179104\n",
      "11               Conversation_Killer  0.474359\n",
      "12  Consequential_Oversimplification  0.220339\n",
      "13             Name_Calling-Labeling  0.498373\n",
      "14               Appeal_to_Authority  0.284722\n",
      "15              Guilt_by_Association  0.192513\n",
      "16         Causal_Oversimplification  0.527473\n",
      "17        Questioning_the_Reputation  0.132768\n",
      "18               Appeal_to_Hypocrisy  0.256757\n",
      "19              Appeal_to_Popularity  0.250000\n",
      "20   Obfuscation-Vagueness-Confusion  0.132353\n",
      "21                  Appeal_to_Values  0.274678\n",
      "22                       Red_Herring  0.388060\n",
      "mean avg f1: 0.3435185963928481\n"
     ]
    }
   ],
   "source": [
    "import json\n",
    "import os\n",
    "import pandas as pd\n",
    "\n",
    "path = '''/home/lgiordano/LUCA/checkthat_GITHUB/models/M2/RUN_OTTOBRE/weights_and_results/2024-10-15-09-48-54_aug_cw_ts0.9'''\n",
    "results = []\n",
    "for subdir in os.listdir(path):\n",
    "    res = json.load(open(os.path.join(path, subdir, 'results.json')))\n",
    "    #res = res['results'][res['best_epoch']-1]\n",
    "    metrics = list(res.items())[3:4]\n",
    "    #print(metrics)\n",
    "    results.append(metrics)\n",
    "\n",
    "#print(results)\n",
    "\n",
    "# Define the column names\n",
    "columns = ['persuasion_technique', 'f1']\n",
    "\n",
    "# Initialize an empty list to store the transformed data\n",
    "transformed_data = []\n",
    "\n",
    "# Iterate through the original data and transform it\n",
    "for sublist in results:\n",
    "    technique_data = {}\n",
    "    for item in sublist:\n",
    "        key, value = item\n",
    "        if '_f1-score' in key:\n",
    "            technique = key.split('_f1-score')[0]\n",
    "            metric = 'f1-score'\n",
    "        if technique not in technique_data:\n",
    "            technique_data[technique] = {}\n",
    "        technique_data[technique][metric] = value\n",
    "    for technique, metrics in technique_data.items():\n",
    "        transformed_data.append([technique, metrics.get('f1-score', None)])\n",
    "\n",
    "# Create a DataFrame\n",
    "df = pd.DataFrame(transformed_data, columns=columns)\n",
    "\n",
    "print(df)\n",
    "\n",
    "print('mean avg f1:', df['f1'].mean())\n"
   ]
  }
 ],
 "metadata": {
  "kernelspec": {
   "display_name": "checkthat",
   "language": "python",
   "name": "python3"
  },
  "language_info": {
   "codemirror_mode": {
    "name": "ipython",
    "version": 3
   },
   "file_extension": ".py",
   "mimetype": "text/x-python",
   "name": "python",
   "nbconvert_exporter": "python",
   "pygments_lexer": "ipython3",
   "version": "3.8.18"
  }
 },
 "nbformat": 4,
 "nbformat_minor": 2
}
