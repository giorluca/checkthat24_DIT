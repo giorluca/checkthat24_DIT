{
 "cells": [
  {
   "cell_type": "code",
   "execution_count": 2,
   "metadata": {},
   "outputs": [
    {
     "name": "stdout",
     "output_type": "stream",
     "text": [
      "                persuasion_technique        f1\n",
      "1    Obfuscation-Vagueness-Confusion  0.122807\n",
      "19                    Appeal_to_Time  0.169492\n",
      "21  Consequential_Oversimplification  0.180451\n",
      "8                          Straw_Man  0.196078\n",
      "20               Appeal_to_Hypocrisy  0.210210\n",
      "10              Appeal_to_Popularity  0.210526\n",
      "17                       Flag_Waving  0.228916\n",
      "2                   Appeal_to_Values  0.234310\n",
      "6               Guilt_by_Association  0.242991\n",
      "5         Questioning_the_Reputation  0.255618\n",
      "18               Appeal_to_Authority  0.292308\n",
      "4                       Whataboutism  0.310345\n",
      "14                             Doubt  0.313878\n",
      "22          Appeal_to_Fear-Prejudice  0.338983\n",
      "11                       Red_Herring  0.371429\n",
      "7          Exaggeration-Minimisation  0.402948\n",
      "12               Conversation_Killer  0.414966\n",
      "0                    Loaded_Language  0.440678\n",
      "13                           Slogans  0.467005\n",
      "16           False_Dilemma-No_Choice  0.476190\n",
      "9              Name_Calling-Labeling  0.508366\n",
      "15         Causal_Oversimplification  0.512821\n",
      "3                         Repetition  0.622837\n",
      "mean avg f1: 0.32713704642456987\n"
     ]
    }
   ],
   "source": [
    "import json\n",
    "import os\n",
    "import pandas as pd\n",
    "\n",
    "path = '''/home/lgiordano/LUCA/checkthat_GITHUB/models/M2/RUN_OTTOBRE/weights_and_results/2024-10-22-12-36-50_aug_cw_ts0.9'''\n",
    "results = []\n",
    "for subdir in os.listdir(path):\n",
    "    json_file_path = os.path.join(path, subdir, 'results.json')\n",
    "    \n",
    "    # Check if the results.json file exists\n",
    "    if os.path.exists(json_file_path):\n",
    "        with open(json_file_path) as f:\n",
    "            res = json.load(f)\n",
    "            # res = res['results'][res['best_epoch']-1]\n",
    "            metrics = list(res.items())[3:4]\n",
    "            results.append(metrics)\n",
    "\n",
    "#print(results)\n",
    "\n",
    "# Define the column names\n",
    "columns = ['persuasion_technique', 'f1']\n",
    "\n",
    "# Initialize an empty list to store the transformed data\n",
    "transformed_data = []\n",
    "\n",
    "# Iterate through the original data and transform it\n",
    "for sublist in results:\n",
    "    technique_data = {}\n",
    "    for item in sublist:\n",
    "        key, value = item\n",
    "        if '_f1-score' in key:\n",
    "            technique = key.split('_f1-score')[0]\n",
    "            metric = 'f1-score'\n",
    "        if technique not in technique_data:\n",
    "            technique_data[technique] = {}\n",
    "        technique_data[technique][metric] = value\n",
    "    for technique, metrics in technique_data.items():\n",
    "        transformed_data.append([technique, metrics.get('f1-score', None)])\n",
    "\n",
    "# Create a DataFrame\n",
    "df = pd.DataFrame(transformed_data, columns=columns)\n",
    "\n",
    "print(df.sort_values('f1'))\n",
    "\n",
    "print('mean avg f1:', df['f1'].mean())"
   ]
  }
 ],
 "metadata": {
  "kernelspec": {
   "display_name": "checkthat",
   "language": "python",
   "name": "python3"
  },
  "language_info": {
   "codemirror_mode": {
    "name": "ipython",
    "version": 3
   },
   "file_extension": ".py",
   "mimetype": "text/x-python",
   "name": "python",
   "nbconvert_exporter": "python",
   "pygments_lexer": "ipython3",
   "version": "3.8.18"
  }
 },
 "nbformat": 4,
 "nbformat_minor": 2
}
