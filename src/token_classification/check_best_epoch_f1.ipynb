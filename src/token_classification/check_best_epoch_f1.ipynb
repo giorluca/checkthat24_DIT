{
 "cells": [
  {
   "cell_type": "code",
   "execution_count": 3,
   "metadata": {},
   "outputs": [
    {
     "name": "stdout",
     "output_type": "stream",
     "text": [
      "                persuasion_technique        f1\n",
      "13   Obfuscation-Vagueness-Confusion  0.075758\n",
      "1                          Straw_Man  0.151261\n",
      "12                    Appeal_to_Time  0.179104\n",
      "2         Questioning_the_Reputation  0.233333\n",
      "3                   Appeal_to_Values  0.244898\n",
      "14              Guilt_by_Association  0.245098\n",
      "7                Appeal_to_Hypocrisy  0.250000\n",
      "15              Appeal_to_Popularity  0.260870\n",
      "21  Consequential_Oversimplification  0.292308\n",
      "19               Appeal_to_Authority  0.303704\n",
      "9                              Doubt  0.322088\n",
      "8                       Whataboutism  0.333333\n",
      "18          Appeal_to_Fear-Prejudice  0.348039\n",
      "22               Conversation_Killer  0.398714\n",
      "17                       Red_Herring  0.400000\n",
      "10                       Flag_Waving  0.406417\n",
      "4          Exaggeration-Minimisation  0.414894\n",
      "0                    Loaded_Language  0.440741\n",
      "6              Name_Calling-Labeling  0.488918\n",
      "16           False_Dilemma-No_Choice  0.491620\n",
      "20                           Slogans  0.533333\n",
      "5          Causal_Oversimplification  0.563830\n",
      "11                        Repetition  0.651466\n",
      "mean avg f1: 0.34911849696796227\n"
     ]
    }
   ],
   "source": [
    "import json\n",
    "import os\n",
    "import pandas as pd\n",
    "\n",
    "path = '''/home/lgiordano/LUCA/checkthat_GITHUB/models/M2/RUN_OTTOBRE/weights_and_results/2024-10-24-13-02-35_aug_cw_ts0.9'''\n",
    "results = []\n",
    "for subdir in os.listdir(path):\n",
    "    json_file_path = os.path.join(path, subdir, 'results.json')\n",
    "    \n",
    "    # Check if the results.json file exists\n",
    "    if os.path.exists(json_file_path):\n",
    "        with open(json_file_path) as f:\n",
    "            res = json.load(f)\n",
    "            # res = res['results'][res['best_epoch']-1]\n",
    "            metrics = list(res.items())[3:4]\n",
    "            results.append(metrics)\n",
    "\n",
    "#print(results)\n",
    "\n",
    "# Define the column names\n",
    "columns = ['persuasion_technique', 'f1']\n",
    "\n",
    "# Initialize an empty list to store the transformed data\n",
    "transformed_data = []\n",
    "\n",
    "# Iterate through the original data and transform it\n",
    "for sublist in results:\n",
    "    technique_data = {}\n",
    "    for item in sublist:\n",
    "        key, value = item\n",
    "        if '_f1-score' in key:\n",
    "            technique = key.split('_f1-score')[0]\n",
    "            metric = 'f1-score'\n",
    "        if technique not in technique_data:\n",
    "            technique_data[technique] = {}\n",
    "        technique_data[technique][metric] = value\n",
    "    for technique, metrics in technique_data.items():\n",
    "        transformed_data.append([technique, metrics.get('f1-score', None)])\n",
    "\n",
    "# Create a DataFrame\n",
    "df = pd.DataFrame(transformed_data, columns=columns)\n",
    "\n",
    "print(df.sort_values('f1'))\n",
    "\n",
    "print('mean avg f1:', df['f1'].mean())"
   ]
  },
  {
   "cell_type": "code",
   "execution_count": 2,
   "metadata": {},
   "outputs": [
    {
     "name": "stdout",
     "output_type": "stream",
     "text": [
      "Empty DataFrame\n",
      "Columns: [macro_f1]\n",
      "Index: []\n",
      "Mean avg macro_f1: nan\n"
     ]
    }
   ],
   "source": [
    "import json\n",
    "import os\n",
    "import pandas as pd\n",
    "\n",
    "# Define the path to the directory containing result subdirectories\n",
    "path = '/home/lgiordano/LUCA/checkthat_GITHUB/models/M2/RUN_OTTOBRE/weights_and_results/model_weights'\n",
    "results = []\n",
    "\n",
    "# Iterate through each subdirectory in the main path\n",
    "for subdir in os.listdir(path):\n",
    "    json_file_path = os.path.join(path, subdir, 'results.json')\n",
    "    \n",
    "    # Check if the results.json file exists\n",
    "    if os.path.exists(json_file_path):\n",
    "        with open(json_file_path) as f:\n",
    "            res = json.load(f)\n",
    "            # Extract the best epoch (adjusted for zero-based indexing)\n",
    "            best_epoch_index = res['best_epoch'] - 1\n",
    "            # Access the best epoch data from the results array\n",
    "            best_epoch_data = res['results'][best_epoch_index]\n",
    "            # Extract the macro avg_f1-score\n",
    "            macro_f1 = best_epoch_data.get('macro avg_f1-score', None)\n",
    "            if macro_f1 is not None:\n",
    "                results.append(macro_f1)\n",
    "\n",
    "# Create a DataFrame to store the results\n",
    "df = pd.DataFrame(results, columns=['macro_f1'])\n",
    "\n",
    "# Print the DataFrame sorted by macro_f1 and calculate the mean\n",
    "print(df.sort_values('macro_f1'))\n",
    "print('Mean avg macro_f1:', df['macro_f1'].mean())"
   ]
  }
 ],
 "metadata": {
  "kernelspec": {
   "display_name": "checkthat",
   "language": "python",
   "name": "python3"
  },
  "language_info": {
   "codemirror_mode": {
    "name": "ipython",
    "version": 3
   },
   "file_extension": ".py",
   "mimetype": "text/x-python",
   "name": "python",
   "nbconvert_exporter": "python",
   "pygments_lexer": "ipython3",
   "version": "3.8.18"
  }
 },
 "nbformat": 4,
 "nbformat_minor": 2
}
