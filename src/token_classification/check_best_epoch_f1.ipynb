{
 "cells": [
  {
   "cell_type": "code",
   "execution_count": 29,
   "metadata": {},
   "outputs": [
    {
     "name": "stdout",
     "output_type": "stream",
     "text": [
      "                persuasion_technique        f1\n",
      "9    Obfuscation-Vagueness-Confusion  0.000000\n",
      "10                       Red_Herring  0.000000\n",
      "18                    Appeal_to_Time  0.112676\n",
      "20                  Appeal_to_Values  0.167331\n",
      "19                         Straw_Man  0.196429\n",
      "12              Guilt_by_Association  0.216495\n",
      "17              Appeal_to_Popularity  0.229008\n",
      "15        Questioning_the_Reputation  0.234332\n",
      "11               Appeal_to_Hypocrisy  0.237500\n",
      "4                              Doubt  0.269799\n",
      "14                      Whataboutism  0.280702\n",
      "7                Appeal_to_Authority  0.292135\n",
      "22          Appeal_to_Fear-Prejudice  0.318501\n",
      "1   Consequential_Oversimplification  0.333333\n",
      "3                            Slogans  0.363636\n",
      "5                Conversation_Killer  0.378182\n",
      "8          Exaggeration-Minimisation  0.392947\n",
      "2                    Loaded_Language  0.410590\n",
      "13           False_Dilemma-No_Choice  0.417582\n",
      "0                        Flag_Waving  0.433862\n",
      "6              Name_Calling-Labeling  0.503209\n",
      "16         Causal_Oversimplification  0.521739\n",
      "21                        Repetition  0.646465\n",
      "mean avg f1: 0.3024544777209478\n"
     ]
    }
   ],
   "source": [
    "import json\n",
    "import os\n",
    "import pandas as pd\n",
    "\n",
    "path = '''/home/lgiordano/LUCA/checkthat_GITHUB/models/M2/RUN_OTTOBRE/weights_and_results/2024-10-24-18-12-14_aug_cw_ts0.9'''\n",
    "results = []\n",
    "for subdir in os.listdir(path):\n",
    "    json_file_path = os.path.join(path, subdir, 'results.json')\n",
    "    \n",
    "    # Check if the results.json file exists\n",
    "    if os.path.exists(json_file_path):\n",
    "        with open(json_file_path) as f:\n",
    "            res = json.load(f)\n",
    "            # res = res['results'][res['best_epoch']-1]\n",
    "            metrics = list(res.items())[3:4]\n",
    "            results.append(metrics)\n",
    "\n",
    "#print(results)\n",
    "\n",
    "# Define the column names\n",
    "columns = ['persuasion_technique', 'f1']\n",
    "\n",
    "# Initialize an empty list to store the transformed data\n",
    "transformed_data = []\n",
    "\n",
    "# Iterate through the original data and transform it\n",
    "for sublist in results:\n",
    "    technique_data = {}\n",
    "    for item in sublist:\n",
    "        key, value = item\n",
    "        if '_f1-score' in key:\n",
    "            technique = key.split('_f1-score')[0]\n",
    "            metric = 'f1-score'\n",
    "        if technique not in technique_data:\n",
    "            technique_data[technique] = {}\n",
    "        technique_data[technique][metric] = value\n",
    "    for technique, metrics in technique_data.items():\n",
    "        transformed_data.append([technique, metrics.get('f1-score', None)])\n",
    "\n",
    "# Create a DataFrame\n",
    "df = pd.DataFrame(transformed_data, columns=columns)\n",
    "\n",
    "print(df.sort_values('f1'))\n",
    "\n",
    "print('mean avg f1:', df['f1'].mean())"
   ]
  }
 ],
 "metadata": {
  "kernelspec": {
   "display_name": "checkthat",
   "language": "python",
   "name": "python3"
  },
  "language_info": {
   "codemirror_mode": {
    "name": "ipython",
    "version": 3
   },
   "file_extension": ".py",
   "mimetype": "text/x-python",
   "name": "python",
   "nbconvert_exporter": "python",
   "pygments_lexer": "ipython3",
   "version": "3.8.18"
  }
 },
 "nbformat": 4,
 "nbformat_minor": 2
}
