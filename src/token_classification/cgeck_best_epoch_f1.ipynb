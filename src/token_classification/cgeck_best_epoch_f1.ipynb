{
 "cells": [
  {
   "cell_type": "code",
   "execution_count": 5,
   "metadata": {},
   "outputs": [
    {
     "name": "stdout",
     "output_type": "stream",
     "text": [
      "                persuasion_technique        f1\n",
      "0           Appeal_to_Fear-Prejudice  0.129630\n",
      "1                    Loaded_Language  0.249685\n",
      "2   Consequential_Oversimplification  0.318841\n",
      "3              Name_Calling-Labeling  0.354475\n",
      "4                              Doubt  0.238197\n",
      "5                       Whataboutism  0.012270\n",
      "6    Obfuscation-Vagueness-Confusion  0.000000\n",
      "7                Appeal_to_Authority  0.171429\n",
      "8         Questioning_the_Reputation  0.201005\n",
      "9                        Flag_Waving  0.066007\n",
      "10                       Red_Herring  0.000000\n",
      "11                  Appeal_to_Values  0.240000\n",
      "12               Conversation_Killer  0.342105\n",
      "13         Exaggeration-Minimisation  0.162679\n",
      "14              Guilt_by_Association  0.000000\n",
      "15               Appeal_to_Hypocrisy  0.191781\n",
      "16              Appeal_to_Popularity  0.117647\n",
      "17                    Appeal_to_Time  0.000000\n",
      "18         Causal_Oversimplification  0.269565\n",
      "19                         Straw_Man  0.000000\n",
      "20                        Repetition  0.199134\n",
      "21                           Slogans  0.392694\n",
      "22           False_Dilemma-No_Choice  0.212598\n",
      "mean avg f1: 0.16824966900389013\n"
     ]
    }
   ],
   "source": [
    "import json\n",
    "import os\n",
    "import pandas as pd\n",
    "\n",
    "path = '/home/lgiordano/LUCA/checkthat_GITHUB/models/M2/2024-05-11-20-06-08'\n",
    "\n",
    "results = []\n",
    "for subdir in os.listdir(path):\n",
    "    res = json.load(open(os.path.join(path, subdir, 'results.json')))\n",
    "    res = res['results'][res['best_epoch']-1]\n",
    "    metrics = list(res.items())[3:4]\n",
    "    #print(metrics)\n",
    "    results.append(metrics)\n",
    "\n",
    "#print(results)\n",
    "\n",
    "# Define the column names\n",
    "columns = ['persuasion_technique', 'f1']\n",
    "\n",
    "# Initialize an empty list to store the transformed data\n",
    "transformed_data = []\n",
    "\n",
    "# Iterate through the original data and transform it\n",
    "for sublist in results:\n",
    "    technique_data = {}\n",
    "    for item in sublist:\n",
    "        key, value = item\n",
    "        if '_f1-score' in key:\n",
    "            technique = key.split('_f1-score')[0]\n",
    "            metric = 'f1-score'\n",
    "        if technique not in technique_data:\n",
    "            technique_data[technique] = {}\n",
    "        technique_data[technique][metric] = value\n",
    "    for technique, metrics in technique_data.items():\n",
    "        transformed_data.append([technique, metrics.get('f1-score', None)])\n",
    "\n",
    "# Create a DataFrame\n",
    "df = pd.DataFrame(transformed_data, columns=columns)\n",
    "\n",
    "print(df)\n",
    "\n",
    "print('mean avg f1:', df['f1'].mean())\n"
   ]
  }
 ],
 "metadata": {
  "kernelspec": {
   "display_name": "checkthat",
   "language": "python",
   "name": "python3"
  },
  "language_info": {
   "codemirror_mode": {
    "name": "ipython",
    "version": 3
   },
   "file_extension": ".py",
   "mimetype": "text/x-python",
   "name": "python",
   "nbconvert_exporter": "python",
   "pygments_lexer": "ipython3",
   "version": "3.8.18"
  }
 },
 "nbformat": 4,
 "nbformat_minor": 2
}
